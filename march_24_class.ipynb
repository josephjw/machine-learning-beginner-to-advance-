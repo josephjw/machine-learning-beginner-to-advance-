{
 "cells": [
  {
   "cell_type": "code",
   "execution_count": 4,
   "id": "c9f28ba3",
   "metadata": {},
   "outputs": [],
   "source": [
    "import matplotlib.pyplot as plt\n"
   ]
  },
  {
   "cell_type": "code",
   "execution_count": 10,
   "id": "28e1546a",
   "metadata": {},
   "outputs": [
    {
     "data": {
      "text/plain": [
       "([<matplotlib.patches.Wedge at 0x7fd281171280>,\n",
       "  <matplotlib.patches.Wedge at 0x7fd281171940>,\n",
       "  <matplotlib.patches.Wedge at 0x7fd281171f40>,\n",
       "  <matplotlib.patches.Wedge at 0x7fd28117e640>],\n",
       " [Text(0.7778174593052024, 0.7778174593052023, 'C++'),\n",
       "  Text(-0.848528137423857, 0.8485281374238571, 'python'),\n",
       "  Text(-0.7778174593052025, -0.7778174593052023, 'kotlin'),\n",
       "  Text(0.7778174593052023, -0.7778174593052025, 'java')])"
      ]
     },
     "execution_count": 10,
     "metadata": {},
     "output_type": "execute_result"
    },
    {
     "data": {
      "image/png": "[encoded data removed]",
      "text/plain": [
       "<Figure size 432x288 with 1 Axes>"
      ]
     },
     "metadata": {},
     "output_type": "display_data"
    }
   ],
   "source": [
    "label = [\"C++\",\"python\",\"kotlin\",\"java\"]\n",
    "size=[\"100\",\"100\",\"100\",\"100\"]\n",
    "color=[\"pink\",\"blue\",\"gold\",\"green\"]\n",
    "explode=(0,0.1,0,0)\n",
    "plt.pie(size,labels=label,colors=color,shadow=True,explode=explode)"
   ]
  },
  {
   "cell_type": "code",
   "execution_count": null,
   "id": "5d35acc1",
   "metadata": {},
   "outputs": [],
   "source": [
    "plt.pie"
   ]
  }
 ],
 "metadata": {
  "kernelspec": {
   "display_name": "Python 3",
   "language": "python",
   "name": "python3"
  },
  "language_info": {
   "codemirror_mode": {
    "name": "ipython",
    "version": 3
   },
   "file_extension": ".py",
   "mimetype": "text/x-python",
   "name": "python",
   "nbconvert_exporter": "python",
   "pygments_lexer": "ipython3",
   "version": "3.8.8"
  }
 },
 "nbformat": 4,
 "nbformat_minor": 5
}
